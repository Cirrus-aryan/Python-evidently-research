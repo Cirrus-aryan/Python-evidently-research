{
 "cells": [
  {
   "cell_type": "code",
   "execution_count": null,
   "id": "6ae72d8b",
   "metadata": {},
   "outputs": [],
   "source": []
  },
  {
   "cell_type": "code",
   "execution_count": null,
   "id": "63f9165f",
   "metadata": {},
   "outputs": [],
   "source": []
  },
  {
   "cell_type": "code",
   "execution_count": 4,
   "id": "5c0132fe",
   "metadata": {},
   "outputs": [],
   "source": [
    "!pip install evidently sentence-transformers bert-score transformers evaluate --quiet"
   ]
  },
  {
   "cell_type": "code",
   "execution_count": 5,
   "id": "41ae02d7",
   "metadata": {},
   "outputs": [],
   "source": [
    "import pandas as pd"
   ]
  },
  {
   "cell_type": "code",
   "execution_count": 6,
   "id": "61283701",
   "metadata": {},
   "outputs": [],
   "source": [
    "from evidently import Dataset, DataDefinition, Report\n",
    "from evidently.descriptors import Sentiment, SemanticSimilarity, BERTScore, HuggingFaceToxicity\n",
    "from evidently.presets import TextEvals"
   ]
  },
  {
   "cell_type": "code",
   "execution_count": 7,
   "id": "0ae27406",
   "metadata": {},
   "outputs": [],
   "source": [
    "df = pd.read_csv('./Reviews.csv')[['Summary', 'Text']].dropna().reset_index(drop=True)\n",
    "df.rename(columns={'Summary': 'prompt', 'Text': 'completion'}, inplace=True)"
   ]
  },
  {
   "cell_type": "code",
   "execution_count": 8,
   "id": "c19cba08",
   "metadata": {},
   "outputs": [],
   "source": [
    "data_def = DataDefinition(text_columns=['prompt', 'completion'])"
   ]
  },
  {
   "cell_type": "code",
   "execution_count": 9,
   "id": "db9a2df4",
   "metadata": {},
   "outputs": [],
   "source": [
    "eval_ds1 = Dataset.from_pandas(\n",
    "    df,\n",
    "    data_definition=data_def,\n",
    "    descriptors=[\n",
    "        Sentiment(column_name='completion', alias='sentiment'),\n",
    "        \n",
    "    ]\n",
    ")\n",
    "   "
   ]
  },
  {
   "cell_type": "code",
   "execution_count": 10,
   "id": "2044c922",
   "metadata": {},
   "outputs": [
    {
     "name": "stderr",
     "output_type": "stream",
     "text": [
      "c:\\Users\\hackerAryan\\AppData\\Local\\Programs\\Python\\Python313\\Lib\\site-packages\\tqdm\\auto.py:21: TqdmWarning: IProgress not found. Please update jupyter and ipywidgets. See https://ipywidgets.readthedocs.io/en/stable/user_install.html\n",
      "  from .autonotebook import tqdm as notebook_tqdm\n"
     ]
    }
   ],
   "source": [
    "eval_ds2 = Dataset.from_pandas(\n",
    "    df,\n",
    "    data_definition=data_def,\n",
    "    descriptors=[\n",
    "        SemanticSimilarity(columns=['prompt', 'completion'], alias='semantic_similarity'),\n",
    "        \n",
    "    ]\n",
    ")\n",
    "   "
   ]
  },
  {
   "cell_type": "code",
   "execution_count": null,
   "id": "880acd30",
   "metadata": {},
   "outputs": [],
   "source": [
    "eval_ds3 = Dataset.from_pandas(\n",
    "    df,\n",
    "    data_definition=data_def,\n",
    "    descriptors=[\n",
    "       \n",
    "        BERTScore(columns=['prompt', 'completion'], alias='bert_score'),\n",
    "    ]\n",
    ")\n",
    "   "
   ]
  },
  {
   "cell_type": "code",
   "execution_count": null,
   "id": "81bb513d",
   "metadata": {},
   "outputs": [
    {
     "name": "stderr",
     "output_type": "stream",
     "text": [
      "Downloading builder script: 100%|██████████| 6.08k/6.08k [00:00<00:00, 2.04MB/s]\n",
      "Using default facebook/roberta-hate-speech-dynabench-r4-target checkpoint\n",
      "Xet Storage is enabled for this repo, but the 'hf_xet' package is not installed. Falling back to regular HTTP download. For better performance, install the package with: `pip install huggingface_hub[hf_xet]` or `pip install hf_xet`\n",
      "Device set to use cpu\n"
     ]
    }
   ],
   "source": [
    "eval_ds4 = Dataset.from_pandas(\n",
    "    df,\n",
    "    data_definition=data_def,\n",
    "    descriptors=[\n",
    "        HuggingFaceToxicity(column_name='completion', alias='toxicity'),\n",
    "    ]\n",
    ")\n",
    "   "
   ]
  },
  {
   "cell_type": "code",
   "execution_count": null,
   "id": "44cc857f",
   "metadata": {},
   "outputs": [],
   "source": [
    "report = Report([TextEvals()])\n",
    "report_result1 = report.run(eval_ds1)\n",
    "report_result2 = report.run(eval_ds2)\n",
    "report_result3 = report.run(eval_ds3)\n",
    "report_result4 = report.run(eval_ds4)\n",
    "\n",
    "report_result_json1 = report_result1.json();\n",
    "report_result_json2 = report_result2.json();\n",
    "report_result_json3 = report_result3.json();\n",
    "report_result_json4 = report_result4.json();\n"
   ]
  },
  {
   "cell_type": "code",
   "execution_count": null,
   "id": "aebd6152",
   "metadata": {},
   "outputs": [
    {
     "data": {
      "text/html": [
       "<div>\n",
       "<style scoped>\n",
       "    .dataframe tbody tr th:only-of-type {\n",
       "        vertical-align: middle;\n",
       "    }\n",
       "\n",
       "    .dataframe tbody tr th {\n",
       "        vertical-align: top;\n",
       "    }\n",
       "\n",
       "    .dataframe thead th {\n",
       "        text-align: right;\n",
       "    }\n",
       "</style>\n",
       "<table border=\"1\" class=\"dataframe\">\n",
       "  <thead>\n",
       "    <tr style=\"text-align: right;\">\n",
       "      <th></th>\n",
       "      <th>prompt</th>\n",
       "      <th>completion</th>\n",
       "      <th>sentiment</th>\n",
       "    </tr>\n",
       "  </thead>\n",
       "  <tbody>\n",
       "    <tr>\n",
       "      <th>0</th>\n",
       "      <td>Good Quality Dog Food</td>\n",
       "      <td>I have bought several of the Vitality canned d...</td>\n",
       "      <td>0.9441</td>\n",
       "    </tr>\n",
       "    <tr>\n",
       "      <th>1</th>\n",
       "      <td>Not as Advertised</td>\n",
       "      <td>Product arrived labeled as Jumbo Salted Peanut...</td>\n",
       "      <td>-0.5664</td>\n",
       "    </tr>\n",
       "    <tr>\n",
       "      <th>2</th>\n",
       "      <td>\"Delight\" says it all</td>\n",
       "      <td>This is a confection that has been around a fe...</td>\n",
       "      <td>0.8265</td>\n",
       "    </tr>\n",
       "    <tr>\n",
       "      <th>3</th>\n",
       "      <td>Cough Medicine</td>\n",
       "      <td>If you are looking for the secret ingredient i...</td>\n",
       "      <td>0.0000</td>\n",
       "    </tr>\n",
       "    <tr>\n",
       "      <th>4</th>\n",
       "      <td>Great taffy</td>\n",
       "      <td>Great taffy at a great price.  There was a wid...</td>\n",
       "      <td>0.9468</td>\n",
       "    </tr>\n",
       "    <tr>\n",
       "      <th>5</th>\n",
       "      <td>Nice Taffy</td>\n",
       "      <td>I got a wild hair for taffy and ordered this f...</td>\n",
       "      <td>0.8830</td>\n",
       "    </tr>\n",
       "    <tr>\n",
       "      <th>6</th>\n",
       "      <td>Great!  Just as good as the expensive brands!</td>\n",
       "      <td>This saltwater taffy had great flavors and was...</td>\n",
       "      <td>0.9346</td>\n",
       "    </tr>\n",
       "    <tr>\n",
       "      <th>7</th>\n",
       "      <td>Wonderful, tasty taffy</td>\n",
       "      <td>This taffy is so good.  It is very soft and ch...</td>\n",
       "      <td>0.9487</td>\n",
       "    </tr>\n",
       "    <tr>\n",
       "      <th>8</th>\n",
       "      <td>Yay Barley</td>\n",
       "      <td>Right now I'm mostly just sprouting this so my...</td>\n",
       "      <td>0.6369</td>\n",
       "    </tr>\n",
       "    <tr>\n",
       "      <th>9</th>\n",
       "      <td>Healthy Dog Food</td>\n",
       "      <td>This is a very healthy dog food. Good for thei...</td>\n",
       "      <td>0.8313</td>\n",
       "    </tr>\n",
       "  </tbody>\n",
       "</table>\n",
       "</div>"
      ],
      "text/plain": [
       "                                          prompt  \\\n",
       "0                          Good Quality Dog Food   \n",
       "1                              Not as Advertised   \n",
       "2                          \"Delight\" says it all   \n",
       "3                                 Cough Medicine   \n",
       "4                                    Great taffy   \n",
       "5                                     Nice Taffy   \n",
       "6  Great!  Just as good as the expensive brands!   \n",
       "7                         Wonderful, tasty taffy   \n",
       "8                                     Yay Barley   \n",
       "9                               Healthy Dog Food   \n",
       "\n",
       "                                          completion  sentiment  \n",
       "0  I have bought several of the Vitality canned d...     0.9441  \n",
       "1  Product arrived labeled as Jumbo Salted Peanut...    -0.5664  \n",
       "2  This is a confection that has been around a fe...     0.8265  \n",
       "3  If you are looking for the secret ingredient i...     0.0000  \n",
       "4  Great taffy at a great price.  There was a wid...     0.9468  \n",
       "5  I got a wild hair for taffy and ordered this f...     0.8830  \n",
       "6  This saltwater taffy had great flavors and was...     0.9346  \n",
       "7  This taffy is so good.  It is very soft and ch...     0.9487  \n",
       "8  Right now I'm mostly just sprouting this so my...     0.6369  \n",
       "9  This is a very healthy dog food. Good for thei...     0.8313  "
      ]
     },
     "execution_count": 10,
     "metadata": {},
     "output_type": "execute_result"
    }
   ],
   "source": [
    "result_df1 = eval_ds1.as_dataframe()\n",
    "result_df1.head(10)\n",
    "result_df2 = eval_ds2.as_dataframe()\n",
    "result_df2.head(10)\n",
    "result_df3 = eval_ds3.as_dataframe()\n",
    "result_df3.head(10)\n",
    "result_df4 = eval_ds4.as_dataframe()\n",
    "result_df4.head(10)"
   ]
  }
 ],
 "metadata": {
  "kernelspec": {
   "display_name": "Python 3",
   "language": "python",
   "name": "python3"
  },
  "language_info": {
   "codemirror_mode": {
    "name": "ipython",
    "version": 3
   },
   "file_extension": ".py",
   "mimetype": "text/x-python",
   "name": "python",
   "nbconvert_exporter": "python",
   "pygments_lexer": "ipython3",
   "version": "3.13.3"
  }
 },
 "nbformat": 4,
 "nbformat_minor": 5
}
